{
  "nbformat": 4,
  "nbformat_minor": 0,
  "metadata": {
    "colab": {
      "name": "CIFAR100_ANN.ipynb",
      "provenance": []
    },
    "kernelspec": {
      "name": "python3",
      "display_name": "Python 3"
    },
    "language_info": {
      "name": "python"
    },
    "accelerator": "GPU"
  },
  "cells": [
    {
      "cell_type": "code",
      "execution_count": 1,
      "metadata": {
        "id": "iXw93IJVAq-r"
      },
      "outputs": [],
      "source": [
        "# Nguyễn Hữu Thâu - 19146265\n",
        "# MSSV: 19146265\n",
        "# Lớp chiều thứ 5, tiết 10-12"
      ]
    },
    {
      "cell_type": "code",
      "source": [
        "#KHAI BAO\n",
        "import numpy as np\n",
        "import pandas as pd\n",
        "import cv2\n",
        "from keras.models import Sequential\n",
        "from tensorflow.keras import datasets, layers,models\n",
        "import matplotlib.pyplot as plt\n",
        "from tensorflow import keras\n",
        "from keras.layers import Dense, Activation,Dropout,Flatten\n",
        "from keras.datasets import cifar100\n",
        "from tensorflow.keras.optimizers import Adam\n",
        "from sklearn.preprocessing import StandardScaler\n",
        "from keras.utils import np_utils\n",
        "import tensorflow as tf "
      ],
      "metadata": {
        "id": "5hl6G9gsBGyk"
      },
      "execution_count": 2,
      "outputs": []
    },
    {
      "cell_type": "code",
      "source": [
        "(x_train, y_train), (x_test, y_test) = cifar100.load_data()\n",
        "x_pre = x_test\n",
        "y_ktr = y_test\n",
        "x_train = x_train.reshape(x_train.shape[0], -1)\n",
        "x_test = x_test.reshape(x_test.shape[0], -1)\n",
        "x_train = x_train.astype('float32')\n",
        "x_test = x_test.astype('float32')\n",
        "# ĐƯA GIÁ TRỊ VỀ TỪ 0-1\n",
        "x_train /= 255\n",
        "x_test /= 255\n",
        "y_train = np_utils.to_categorical(y_train, 100)\n",
        "y_test = np_utils.to_categorical(y_test, 100)"
      ],
      "metadata": {
        "colab": {
          "base_uri": "https://localhost:8080/"
        },
        "id": "dCOhGKNuBIhm",
        "outputId": "d0063612-d1f6-46b8-c112-4ecd3d647d1a"
      },
      "execution_count": 3,
      "outputs": [
        {
          "output_type": "stream",
          "name": "stdout",
          "text": [
            "Downloading data from https://www.cs.toronto.edu/~kriz/cifar-100-python.tar.gz\n",
            "169009152/169001437 [==============================] - 2s 0us/step\n",
            "169017344/169001437 [==============================] - 2s 0us/step\n"
          ]
        }
      ]
    },
    {
      "cell_type": "code",
      "source": [
        "model = Sequential()\n",
        "model.add(Dense(512, activation='relu',\n",
        "input_shape = (x_train.shape[1],)))\n",
        "model.add(Dropout(0.1))\n",
        "model.add(Dense(256,activation='relu'))\n",
        "model.add(Dropout(0.1))\n",
        "model.add(Dense(256,activation='relu'))\n",
        "model.add(Dropout(0.1))\n",
        "model.add(Dense(100,activation='softmax'))\n",
        "model.summary()\n",
        "model.compile(loss='mean_squared_error',optimizer =Adam(), metrics=['acc'])\n",
        "history = model.fit(x_train, y_train, batch_size =256, epochs = 50, validation_split = 0.2)\n",
        "model.save('final_model.h5')"
      ],
      "metadata": {
        "colab": {
          "base_uri": "https://localhost:8080/"
        },
        "id": "nubI4We8BKt2",
        "outputId": "adc47f89-01a0-4235-f054-10fd36fc0e1e"
      },
      "execution_count": 10,
      "outputs": [
        {
          "output_type": "stream",
          "name": "stdout",
          "text": [
            "Model: \"sequential_3\"\n",
            "_________________________________________________________________\n",
            " Layer (type)                Output Shape              Param #   \n",
            "=================================================================\n",
            " dense_12 (Dense)            (None, 512)               1573376   \n",
            "                                                                 \n",
            " dropout_9 (Dropout)         (None, 512)               0         \n",
            "                                                                 \n",
            " dense_13 (Dense)            (None, 256)               131328    \n",
            "                                                                 \n",
            " dropout_10 (Dropout)        (None, 256)               0         \n",
            "                                                                 \n",
            " dense_14 (Dense)            (None, 256)               65792     \n",
            "                                                                 \n",
            " dropout_11 (Dropout)        (None, 256)               0         \n",
            "                                                                 \n",
            " dense_15 (Dense)            (None, 100)               25700     \n",
            "                                                                 \n",
            "=================================================================\n",
            "Total params: 1,796,196\n",
            "Trainable params: 1,796,196\n",
            "Non-trainable params: 0\n",
            "_________________________________________________________________\n",
            "Epoch 1/50\n",
            "157/157 [==============================] - 2s 7ms/step - loss: 0.0098 - acc: 0.0360 - val_loss: 0.0098 - val_acc: 0.0518\n",
            "Epoch 2/50\n",
            "157/157 [==============================] - 1s 6ms/step - loss: 0.0097 - acc: 0.0617 - val_loss: 0.0097 - val_acc: 0.0756\n",
            "Epoch 3/50\n",
            "157/157 [==============================] - 1s 6ms/step - loss: 0.0097 - acc: 0.0818 - val_loss: 0.0096 - val_acc: 0.1038\n",
            "Epoch 4/50\n",
            "157/157 [==============================] - 1s 6ms/step - loss: 0.0096 - acc: 0.1005 - val_loss: 0.0095 - val_acc: 0.1149\n",
            "Epoch 5/50\n",
            "157/157 [==============================] - 1s 6ms/step - loss: 0.0095 - acc: 0.1150 - val_loss: 0.0094 - val_acc: 0.1317\n",
            "Epoch 6/50\n",
            "157/157 [==============================] - 1s 6ms/step - loss: 0.0095 - acc: 0.1252 - val_loss: 0.0094 - val_acc: 0.1308\n",
            "Epoch 7/50\n",
            "157/157 [==============================] - 1s 6ms/step - loss: 0.0094 - acc: 0.1339 - val_loss: 0.0093 - val_acc: 0.1444\n",
            "Epoch 8/50\n",
            "157/157 [==============================] - 1s 6ms/step - loss: 0.0094 - acc: 0.1408 - val_loss: 0.0094 - val_acc: 0.1413\n",
            "Epoch 9/50\n",
            "157/157 [==============================] - 1s 6ms/step - loss: 0.0093 - acc: 0.1505 - val_loss: 0.0093 - val_acc: 0.1549\n",
            "Epoch 10/50\n",
            "157/157 [==============================] - 1s 6ms/step - loss: 0.0093 - acc: 0.1545 - val_loss: 0.0093 - val_acc: 0.1577\n",
            "Epoch 11/50\n",
            "157/157 [==============================] - 1s 6ms/step - loss: 0.0092 - acc: 0.1591 - val_loss: 0.0092 - val_acc: 0.1662\n",
            "Epoch 12/50\n",
            "157/157 [==============================] - 1s 6ms/step - loss: 0.0092 - acc: 0.1675 - val_loss: 0.0092 - val_acc: 0.1722\n",
            "Epoch 13/50\n",
            "157/157 [==============================] - 1s 6ms/step - loss: 0.0092 - acc: 0.1709 - val_loss: 0.0092 - val_acc: 0.1669\n",
            "Epoch 14/50\n",
            "157/157 [==============================] - 1s 6ms/step - loss: 0.0092 - acc: 0.1737 - val_loss: 0.0091 - val_acc: 0.1778\n",
            "Epoch 15/50\n",
            "157/157 [==============================] - 1s 6ms/step - loss: 0.0091 - acc: 0.1794 - val_loss: 0.0091 - val_acc: 0.1863\n",
            "Epoch 16/50\n",
            "157/157 [==============================] - 1s 6ms/step - loss: 0.0091 - acc: 0.1840 - val_loss: 0.0091 - val_acc: 0.1849\n",
            "Epoch 17/50\n",
            "157/157 [==============================] - 1s 6ms/step - loss: 0.0091 - acc: 0.1871 - val_loss: 0.0091 - val_acc: 0.1800\n",
            "Epoch 18/50\n",
            "157/157 [==============================] - 1s 6ms/step - loss: 0.0090 - acc: 0.1931 - val_loss: 0.0091 - val_acc: 0.1821\n",
            "Epoch 19/50\n",
            "157/157 [==============================] - 1s 6ms/step - loss: 0.0090 - acc: 0.1996 - val_loss: 0.0091 - val_acc: 0.1883\n",
            "Epoch 20/50\n",
            "157/157 [==============================] - 1s 6ms/step - loss: 0.0090 - acc: 0.1986 - val_loss: 0.0091 - val_acc: 0.1912\n",
            "Epoch 21/50\n",
            "157/157 [==============================] - 1s 6ms/step - loss: 0.0090 - acc: 0.2011 - val_loss: 0.0090 - val_acc: 0.1961\n",
            "Epoch 22/50\n",
            "157/157 [==============================] - 1s 6ms/step - loss: 0.0089 - acc: 0.2052 - val_loss: 0.0090 - val_acc: 0.1943\n",
            "Epoch 23/50\n",
            "157/157 [==============================] - 1s 6ms/step - loss: 0.0089 - acc: 0.2077 - val_loss: 0.0090 - val_acc: 0.1942\n",
            "Epoch 24/50\n",
            "157/157 [==============================] - 1s 6ms/step - loss: 0.0089 - acc: 0.2094 - val_loss: 0.0090 - val_acc: 0.1956\n",
            "Epoch 25/50\n",
            "157/157 [==============================] - 1s 6ms/step - loss: 0.0089 - acc: 0.2163 - val_loss: 0.0090 - val_acc: 0.1999\n",
            "Epoch 26/50\n",
            "157/157 [==============================] - 1s 6ms/step - loss: 0.0088 - acc: 0.2215 - val_loss: 0.0090 - val_acc: 0.2028\n",
            "Epoch 27/50\n",
            "157/157 [==============================] - 1s 6ms/step - loss: 0.0088 - acc: 0.2235 - val_loss: 0.0090 - val_acc: 0.1992\n",
            "Epoch 28/50\n",
            "157/157 [==============================] - 1s 6ms/step - loss: 0.0088 - acc: 0.2244 - val_loss: 0.0090 - val_acc: 0.2048\n",
            "Epoch 29/50\n",
            "157/157 [==============================] - 1s 6ms/step - loss: 0.0088 - acc: 0.2306 - val_loss: 0.0089 - val_acc: 0.2049\n",
            "Epoch 30/50\n",
            "157/157 [==============================] - 1s 6ms/step - loss: 0.0087 - acc: 0.2304 - val_loss: 0.0090 - val_acc: 0.2068\n",
            "Epoch 31/50\n",
            "157/157 [==============================] - 1s 6ms/step - loss: 0.0087 - acc: 0.2326 - val_loss: 0.0090 - val_acc: 0.2016\n",
            "Epoch 32/50\n",
            "157/157 [==============================] - 1s 6ms/step - loss: 0.0087 - acc: 0.2364 - val_loss: 0.0089 - val_acc: 0.2134\n",
            "Epoch 33/50\n",
            "157/157 [==============================] - 1s 6ms/step - loss: 0.0087 - acc: 0.2374 - val_loss: 0.0090 - val_acc: 0.2017\n",
            "Epoch 34/50\n",
            "157/157 [==============================] - 1s 6ms/step - loss: 0.0087 - acc: 0.2416 - val_loss: 0.0089 - val_acc: 0.2131\n",
            "Epoch 35/50\n",
            "157/157 [==============================] - 1s 6ms/step - loss: 0.0086 - acc: 0.2448 - val_loss: 0.0089 - val_acc: 0.2147\n",
            "Epoch 36/50\n",
            "157/157 [==============================] - 1s 6ms/step - loss: 0.0086 - acc: 0.2465 - val_loss: 0.0089 - val_acc: 0.2113\n",
            "Epoch 37/50\n",
            "157/157 [==============================] - 1s 6ms/step - loss: 0.0086 - acc: 0.2455 - val_loss: 0.0089 - val_acc: 0.2114\n",
            "Epoch 38/50\n",
            "157/157 [==============================] - 1s 6ms/step - loss: 0.0086 - acc: 0.2535 - val_loss: 0.0089 - val_acc: 0.2116\n",
            "Epoch 39/50\n",
            "157/157 [==============================] - 1s 6ms/step - loss: 0.0086 - acc: 0.2528 - val_loss: 0.0089 - val_acc: 0.2170\n",
            "Epoch 40/50\n",
            "157/157 [==============================] - 1s 6ms/step - loss: 0.0086 - acc: 0.2524 - val_loss: 0.0090 - val_acc: 0.2102\n",
            "Epoch 41/50\n",
            "157/157 [==============================] - 1s 6ms/step - loss: 0.0086 - acc: 0.2548 - val_loss: 0.0089 - val_acc: 0.2089\n",
            "Epoch 42/50\n",
            "157/157 [==============================] - 1s 6ms/step - loss: 0.0085 - acc: 0.2558 - val_loss: 0.0089 - val_acc: 0.2144\n",
            "Epoch 43/50\n",
            "157/157 [==============================] - 1s 6ms/step - loss: 0.0085 - acc: 0.2605 - val_loss: 0.0089 - val_acc: 0.2110\n",
            "Epoch 44/50\n",
            "157/157 [==============================] - 1s 6ms/step - loss: 0.0085 - acc: 0.2641 - val_loss: 0.0090 - val_acc: 0.2057\n",
            "Epoch 45/50\n",
            "157/157 [==============================] - 1s 6ms/step - loss: 0.0085 - acc: 0.2635 - val_loss: 0.0089 - val_acc: 0.2124\n",
            "Epoch 46/50\n",
            "157/157 [==============================] - 1s 6ms/step - loss: 0.0084 - acc: 0.2669 - val_loss: 0.0089 - val_acc: 0.2100\n",
            "Epoch 47/50\n",
            "157/157 [==============================] - 1s 6ms/step - loss: 0.0084 - acc: 0.2669 - val_loss: 0.0089 - val_acc: 0.2210\n",
            "Epoch 48/50\n",
            "157/157 [==============================] - 1s 6ms/step - loss: 0.0084 - acc: 0.2691 - val_loss: 0.0089 - val_acc: 0.2149\n",
            "Epoch 49/50\n",
            "157/157 [==============================] - 1s 6ms/step - loss: 0.0084 - acc: 0.2680 - val_loss: 0.0089 - val_acc: 0.2144\n",
            "Epoch 50/50\n",
            "157/157 [==============================] - 1s 6ms/step - loss: 0.0084 - acc: 0.2750 - val_loss: 0.0089 - val_acc: 0.2169\n"
          ]
        }
      ]
    },
    {
      "cell_type": "code",
      "source": [
        "plt.subplot(211)\n",
        "plt.title('val_loss')\n",
        "plt.plot(history.history['val_loss'], color='blue',\n",
        "label='train')"
      ],
      "metadata": {
        "colab": {
          "base_uri": "https://localhost:8080/",
          "height": 180
        },
        "id": "WsQdMO8HB9HU",
        "outputId": "01683b48-8bb1-4dd2-af8c-c9878e0dd0b4"
      },
      "execution_count": 11,
      "outputs": [
        {
          "output_type": "execute_result",
          "data": {
            "text/plain": [
              "[<matplotlib.lines.Line2D at 0x7fa4b2168f10>]"
            ]
          },
          "metadata": {},
          "execution_count": 11
        },
        {
          "output_type": "display_data",
          "data": {
            "text/plain": [
              "<Figure size 432x288 with 1 Axes>"
            ],
            "image/png": "[encoded data removed]"
          },
          "metadata": {
            "needs_background": "light"
          }
        }
      ]
    },
    {
      "cell_type": "code",
      "source": [
        "#VE DO THI VAL-ACC\n",
        "plt.subplot(212)\n",
        "plt.title('Val Accuracy')\n",
        "plt.plot(history.history['val_acc'], color='blue',\n",
        "label='train')\n",
        "test = 13\n",
        "Label = ['apple', 'aquarium_fish', 'baby', 'bear','beaver', 'bed', 'bee', 'beetle', 'bicycle', 'bottle','bowl', 'boy', \n",
        "'bridge', 'bus', 'butterfly', 'camel','can', 'castle', 'caterpillar', 'cattle', 'chair','chimpanzee', 'clock', \n",
        "'cloud', 'cockroach', 'couch','crab', 'crocodile', 'cup', 'dinosaur', 'dolphin','elephant', 'flatfish', 'forest', 'fox', 'girl', 'hamster',\n",
        "'house', 'kangaroo', 'keyboard', 'lamp','lawn_mower', 'leopard', 'lion', 'lizard', 'lobster',\n",
        "'man', 'maple_tree', 'motorcycle', 'mountain','mouse', 'mushroom', 'oak_tree', 'orange', 'orchid',\n",
        "'otter', 'palm_tree', 'pear', 'pickup_truck','pine_tree', 'plain', 'plate', 'poppy', 'porcupine',\n",
        "'possum', 'rabbit', 'raccoon', 'ray', 'road', 'rocket','rose', 'sea', 'seal', 'shark', 'shrew', 'skunk',\n",
        "'skyscraper', 'snail', 'snake', 'spider', 'squirrel','streetcar', 'sunflower', 'sweet_pepper', 'table',\n",
        "'tank', 'telephone', 'television', 'tiger', 'tractor','train', 'trout', 'tulip', 'turtle', 'wardrobe', 'whale',\n",
        "'willow_tree', 'wolf', 'woman', 'worm']\n",
        "plt.title(\" Dự đoán là: \" +\n",
        "str(Label[np.argmax(model.predict(x_pre[test].reshape(-1,3072)))]))\n",
        "plt.imshow(x_pre[test],cmap=plt.get_cmap('gray'))"
      ],
      "metadata": {
        "colab": {
          "base_uri": "https://localhost:8080/",
          "height": 180
        },
        "id": "t-9Qjvx5B9hb",
        "outputId": "5258a3d0-c573-4fe9-a837-87b5afa8d5e1"
      },
      "execution_count": 12,
      "outputs": [
        {
          "output_type": "execute_result",
          "data": {
            "text/plain": [
              "<matplotlib.image.AxesImage at 0x7fa4b20daf90>"
            ]
          },
          "metadata": {},
          "execution_count": 12
        },
        {
          "output_type": "display_data",
          "data": {
            "text/plain": [
              "<Figure size 432x288 with 1 Axes>"
            ],
            "image/png": "[encoded data removed]"
          },
          "metadata": {
            "needs_background": "light"
          }
        }
      ]
    },
    {
      "cell_type": "code",
      "source": [
        ""
      ],
      "metadata": {
        "id": "_2P-PuSCCbcs"
      },
      "execution_count": null,
      "outputs": []
    }
  ]
}